{
 "cells": [
  {
   "cell_type": "markdown",
   "id": "995c8efc-5573-48ef-a233-90327a983247",
   "metadata": {},
   "source": [
    "# Prediction of Financial Returns\n",
    "\n",
    "### Introduction\n",
    "\n",
    "In the xlsx file ’Financial returns.xlsx’, you will find daily returns of the BlackRock and\r\n",
    "Hermes companies spanning from 2000 to 2024. In thisprojecte, we use AR and ARMA\r\n",
    "models for predicting returns and time-varying variances. In particular, we develop a dynamic\r\n",
    "portfolio management for investing in those two assets."
   ]
  },
  {
   "cell_type": "markdown",
   "id": "9ba9aea0-ac6a-45d1-8039-96409f6a54c3",
   "metadata": {},
   "source": [
    "### Importing the librariries and the dataset"
   ]
  },
  {
   "cell_type": "code",
   "execution_count": 1,
   "id": "9eac994a-7386-4ec3-b077-4694c0f16db9",
   "metadata": {
    "scrolled": true
   },
   "outputs": [
    {
     "data": {
      "text/html": [
       "<div>\n",
       "<style scoped>\n",
       "    .dataframe tbody tr th:only-of-type {\n",
       "        vertical-align: middle;\n",
       "    }\n",
       "\n",
       "    .dataframe tbody tr th {\n",
       "        vertical-align: top;\n",
       "    }\n",
       "\n",
       "    .dataframe thead th {\n",
       "        text-align: right;\n",
       "    }\n",
       "</style>\n",
       "<table border=\"1\" class=\"dataframe\">\n",
       "  <thead>\n",
       "    <tr style=\"text-align: right;\">\n",
       "      <th></th>\n",
       "      <th>Date</th>\n",
       "      <th>BLK returns</th>\n",
       "      <th>Hermes returns</th>\n",
       "    </tr>\n",
       "  </thead>\n",
       "  <tbody>\n",
       "    <tr>\n",
       "      <th>0</th>\n",
       "      <td>2000-01-04</td>\n",
       "      <td>-4.511279</td>\n",
       "      <td>-6.118337</td>\n",
       "    </tr>\n",
       "    <tr>\n",
       "      <th>1</th>\n",
       "      <td>2000-01-05</td>\n",
       "      <td>-0.787432</td>\n",
       "      <td>-7.313495</td>\n",
       "    </tr>\n",
       "    <tr>\n",
       "      <th>2</th>\n",
       "      <td>2000-01-06</td>\n",
       "      <td>1.587306</td>\n",
       "      <td>-2.343765</td>\n",
       "    </tr>\n",
       "    <tr>\n",
       "      <th>3</th>\n",
       "      <td>2000-01-07</td>\n",
       "      <td>-0.781223</td>\n",
       "      <td>6.399958</td>\n",
       "    </tr>\n",
       "    <tr>\n",
       "      <th>4</th>\n",
       "      <td>2000-01-10</td>\n",
       "      <td>0.787375</td>\n",
       "      <td>3.383528</td>\n",
       "    </tr>\n",
       "  </tbody>\n",
       "</table>\n",
       "</div>"
      ],
      "text/plain": [
       "        Date  BLK returns  Hermes returns\n",
       "0 2000-01-04    -4.511279       -6.118337\n",
       "1 2000-01-05    -0.787432       -7.313495\n",
       "2 2000-01-06     1.587306       -2.343765\n",
       "3 2000-01-07    -0.781223        6.399958\n",
       "4 2000-01-10     0.787375        3.383528"
      ]
     },
     "execution_count": 1,
     "metadata": {},
     "output_type": "execute_result"
    }
   ],
   "source": [
    "import numpy as np\n",
    "import pandas as pd \n",
    "import matplotlib.pyplot as plt\n",
    "import statsmodels.api as sm\n",
    "from statsmodels.tsa.stattools import acf\n",
    "from statsmodels.tsa.stattools import pacf\n",
    "from statsmodels.graphics import tsaplots\n",
    "from scipy import stats\n",
    "import sys\n",
    "from statsmodels.tsa.ar_model import AutoReg\n",
    "from statsmodels.tsa.arima.model import ARIMA\n",
    "from datetime import datetime\n",
    "from scipy.stats import norm\n",
    "\n",
    "path = \"../data/Financial_returns.xlsx\"\n",
    "data = pd.read_excel(path)\n",
    "data.head()"
   ]
  },
  {
   "cell_type": "markdown",
   "id": "d0547759-c13a-4e92-8e43-8240ebe44b35",
   "metadata": {},
   "source": [
    "### Data Exploration"
   ]
  },
  {
   "cell_type": "code",
   "execution_count": 2,
   "id": "ea2ef0b9-f442-4795-a012-a2613f891eb2",
   "metadata": {},
   "outputs": [
    {
     "data": {
      "text/plain": [
       "(6235, 3)"
      ]
     },
     "execution_count": 2,
     "metadata": {},
     "output_type": "execute_result"
    }
   ],
   "source": [
    "data.shape"
   ]
  },
  {
   "cell_type": "code",
   "execution_count": 3,
   "id": "57601c82-a4bf-4096-a364-5ec43cbf50b3",
   "metadata": {},
   "outputs": [
    {
     "data": {
      "text/html": [
       "<div>\n",
       "<style scoped>\n",
       "    .dataframe tbody tr th:only-of-type {\n",
       "        vertical-align: middle;\n",
       "    }\n",
       "\n",
       "    .dataframe tbody tr th {\n",
       "        vertical-align: top;\n",
       "    }\n",
       "\n",
       "    .dataframe thead th {\n",
       "        text-align: right;\n",
       "    }\n",
       "</style>\n",
       "<table border=\"1\" class=\"dataframe\">\n",
       "  <thead>\n",
       "    <tr style=\"text-align: right;\">\n",
       "      <th></th>\n",
       "      <th>Date</th>\n",
       "      <th>BLK returns</th>\n",
       "      <th>Hermes returns</th>\n",
       "    </tr>\n",
       "  </thead>\n",
       "  <tbody>\n",
       "    <tr>\n",
       "      <th>count</th>\n",
       "      <td>6235</td>\n",
       "      <td>6235.000000</td>\n",
       "      <td>6235.000000</td>\n",
       "    </tr>\n",
       "    <tr>\n",
       "      <th>mean</th>\n",
       "      <td>2012-01-09 15:52:13.472333568</td>\n",
       "      <td>0.091472</td>\n",
       "      <td>0.080779</td>\n",
       "    </tr>\n",
       "    <tr>\n",
       "      <th>min</th>\n",
       "      <td>2000-01-04 00:00:00</td>\n",
       "      <td>-15.524170</td>\n",
       "      <td>-11.757467</td>\n",
       "    </tr>\n",
       "    <tr>\n",
       "      <th>25%</th>\n",
       "      <td>2005-12-24 12:00:00</td>\n",
       "      <td>-0.833208</td>\n",
       "      <td>-0.809648</td>\n",
       "    </tr>\n",
       "    <tr>\n",
       "      <th>50%</th>\n",
       "      <td>2012-01-06 00:00:00</td>\n",
       "      <td>0.006815</td>\n",
       "      <td>0.037969</td>\n",
       "    </tr>\n",
       "    <tr>\n",
       "      <th>75%</th>\n",
       "      <td>2018-01-20 12:00:00</td>\n",
       "      <td>1.000922</td>\n",
       "      <td>0.967357</td>\n",
       "    </tr>\n",
       "    <tr>\n",
       "      <th>max</th>\n",
       "      <td>2024-01-31 00:00:00</td>\n",
       "      <td>19.560939</td>\n",
       "      <td>16.829634</td>\n",
       "    </tr>\n",
       "    <tr>\n",
       "      <th>std</th>\n",
       "      <td>NaN</td>\n",
       "      <td>2.116754</td>\n",
       "      <td>1.852676</td>\n",
       "    </tr>\n",
       "  </tbody>\n",
       "</table>\n",
       "</div>"
      ],
      "text/plain": [
       "                                Date  BLK returns  Hermes returns\n",
       "count                           6235  6235.000000     6235.000000\n",
       "mean   2012-01-09 15:52:13.472333568     0.091472        0.080779\n",
       "min              2000-01-04 00:00:00   -15.524170      -11.757467\n",
       "25%              2005-12-24 12:00:00    -0.833208       -0.809648\n",
       "50%              2012-01-06 00:00:00     0.006815        0.037969\n",
       "75%              2018-01-20 12:00:00     1.000922        0.967357\n",
       "max              2024-01-31 00:00:00    19.560939       16.829634\n",
       "std                              NaN     2.116754        1.852676"
      ]
     },
     "execution_count": 3,
     "metadata": {},
     "output_type": "execute_result"
    }
   ],
   "source": [
    "data.describe()"
   ]
  },
  {
   "cell_type": "code",
   "execution_count": 4,
   "id": "d6007d1f-a6b3-478b-8f7e-91485e52a3fb",
   "metadata": {
    "scrolled": true
   },
   "outputs": [
    {
     "name": "stdout",
     "output_type": "stream",
     "text": [
      "<class 'pandas.core.frame.DataFrame'>\n",
      "RangeIndex: 6235 entries, 0 to 6234\n",
      "Data columns (total 3 columns):\n",
      " #   Column          Non-Null Count  Dtype         \n",
      "---  ------          --------------  -----         \n",
      " 0   Date            6235 non-null   datetime64[ns]\n",
      " 1   BLK returns     6235 non-null   float64       \n",
      " 2   Hermes returns  6235 non-null   float64       \n",
      "dtypes: datetime64[ns](1), float64(2)\n",
      "memory usage: 146.3 KB\n"
     ]
    }
   ],
   "source": [
    "data.info()"
   ]
  },
  {
   "cell_type": "code",
   "execution_count": 5,
   "id": "edc488a6-b976-4e99-afd3-7c30a8bbe5d3",
   "metadata": {},
   "outputs": [],
   "source": [
    "# Ensuring date is in right format\n",
    "\n",
    "data['Date'] = pd.to_datetime(data['Date'], format='%Y-%m-%d')"
   ]
  },
  {
   "cell_type": "code",
   "execution_count": 6,
   "id": "31823f57-3f69-49f3-a743-3192fcf83d62",
   "metadata": {
    "scrolled": true
   },
   "outputs": [
    {
     "data": {
      "image/png": "[encoded data removed]",
      "text/plain": [
       "<Figure size 640x480 with 1 Axes>"
      ]
     },
     "metadata": {},
     "output_type": "display_data"
    }
   ],
   "source": [
    "# PLotting to see if the series is stationary\n",
    "\n",
    "plt.plot(data['Date'], data['Hermes returns'])\n",
    "plt.show()"
   ]
  },
  {
   "cell_type": "markdown",
   "id": "333dc371-67cf-42be-b4cd-283a948202ea",
   "metadata": {},
   "source": [
    "From a visual inspection, we see that the Hermes returns are stationary."
   ]
  },
  {
   "cell_type": "code",
   "execution_count": 7,
   "id": "379dadc3-df06-4639-92de-2866e9a724ef",
   "metadata": {
    "scrolled": true
   },
   "outputs": [
    {
     "data": {
      "image/png": "[encoded data removed]",
      "text/plain": [
       "<Figure size 640x480 with 1 Axes>"
      ]
     },
     "metadata": {},
     "output_type": "display_data"
    }
   ],
   "source": [
    "# PLotting to see if the series is stationary\n",
    "\n",
    "plt.plot(data['Date'], data['BLK returns'])\n",
    "plt.show()"
   ]
  },
  {
   "cell_type": "markdown",
   "id": "1a024ba8-85d5-4111-a1f6-2b52dcccc2f2",
   "metadata": {},
   "source": [
    "We also see that BLK returns are stationary."
   ]
  },
  {
   "cell_type": "markdown",
   "id": "95666ad2-ae75-4012-a3cc-f4244fe3392e",
   "metadata": {},
   "source": [
    "### Question 1 - HERMES RETURNS\n",
    "\n",
    "**(a)** Compute the auto-correlogram up to 20 lags (see function tsaplots.plot_acf in Python)\r\n"
   ]
  },
  {
   "cell_type": "code",
   "execution_count": 8,
   "id": "aecc370c-89c2-4fcf-b084-5a96b0aca8b4",
   "metadata": {},
   "outputs": [
    {
     "data": {
      "image/png": "[encoded data removed]",
      "text/plain": [
       "<Figure size 640x480 with 1 Axes>"
      ]
     },
     "metadata": {},
     "output_type": "display_data"
    }
   ],
   "source": [
    "date = data[['Date']]\n",
    "hermes_returns = data[['Hermes returns']]\n",
    "\n",
    "# Displaying the autocorrelation plot for 20 lags\n",
    "fig = tsaplots.plot_acf(hermes_returns, lags=20)\n",
    "plt.show()"
   ]
  },
  {
   "cell_type": "markdown",
   "id": "fa2cd5c0-c543-4d0b-9f9d-ddc4ddd20d35",
   "metadata": {},
   "source": [
    "On this graph, we observe that lags are centered around 0 and fall within the blue shaded area which is the confidence interval that there is no autocorrelation. We observe the first lag is slighly outside the confidence bend so maybe there is some autocorrelation, but it doesn't look like that's the case. We expect to see such ACF on returns. "
   ]
  },
  {
   "cell_type": "markdown",
   "id": "52a9458a-3cbd-4afe-96b2-c10e9f6ec559",
   "metadata": {},
   "source": [
    "**(b)** Perform a Box-Pierce test for the auto-correlation values from lag 1 to 50 included. With a 99% confidence level, do you reject the Null hypothesis of the test. What do you conclude?"
   ]
  },
  {
   "cell_type": "code",
   "execution_count": 9,
   "id": "ce39664f-ff6e-4944-9004-7704c2e7b1f3",
   "metadata": {
    "scrolled": true
   },
   "outputs": [
    {
     "data": {
      "text/plain": [
       "array([ 1.00000000e+00, -5.28410869e-02, -7.99027507e-03, -3.33089409e-02,\n",
       "       -1.77620528e-03, -1.29870344e-02, -2.50664425e-02,  2.83770121e-03,\n",
       "        4.06341759e-02,  9.13175107e-03, -3.80363634e-03,  3.04611155e-02,\n",
       "       -1.63882902e-02, -1.46618617e-02, -1.46095079e-03,  7.73586158e-03,\n",
       "        4.79616082e-03,  2.70504055e-02, -4.03407006e-02, -2.01814727e-03,\n",
       "       -1.37994557e-02,  1.01503116e-02, -1.67880564e-02, -1.34371538e-02,\n",
       "       -6.41930446e-03, -1.48591344e-02, -1.08442714e-02, -1.14086129e-03,\n",
       "        2.01832416e-02, -1.44611912e-02,  3.77153851e-02, -7.89542528e-03,\n",
       "        2.08932673e-02, -3.08248843e-02,  4.89203999e-03, -4.80743641e-03,\n",
       "       -5.92194629e-04,  1.51403347e-02, -1.39392977e-02,  9.99905351e-03,\n",
       "       -1.14767405e-02,  1.79324791e-02, -1.72730325e-02,  1.01668289e-02,\n",
       "       -2.10201462e-03,  7.76904267e-03, -2.94192178e-02, -2.48962966e-02,\n",
       "       -1.25857571e-02,  1.32876807e-02, -1.88395712e-02])"
      ]
     },
     "execution_count": 9,
     "metadata": {},
     "output_type": "execute_result"
    }
   ],
   "source": [
    "autocorr = acf(hermes_returns, nlags = 50,fft=False) # here we compute auto-correlation for the first 50 auto-correlations\n",
    "autocorr # printing autocorr values"
   ]
  },
  {
   "cell_type": "code",
   "execution_count": 10,
   "id": "79986345-4e1f-4a70-891e-349ad19cc37f",
   "metadata": {},
   "outputs": [
    {
     "name": "stdout",
     "output_type": "stream",
     "text": [
      "Test statistics: 116.43\n",
      "Reject the Null hypothesis if above the following threshold: 76.15\n",
      "      BP test  critical value\n",
      "0  116.425613       76.153891\n"
     ]
    }
   ],
   "source": [
    "# Let's do a Box-Pierce \n",
    "\n",
    "T = len(hermes_returns) # hermes returns sample size\n",
    "test = T*np.sum(autocorr[1:51]**2) # BP test statistic\n",
    "df = np.size(autocorr[1:51]) # 50 lags\n",
    "threshold = stats.chi2.ppf(0.99,df) # 99% confidence interval\n",
    "print('Test statistics: ' + str(round(test,2)))\n",
    "print('Reject the Null hypothesis if above the following threshold: ' + str(round(threshold,2)))\n",
    "Box_pierce = pd.DataFrame(np.reshape([test,threshold],[1,2]),columns=[\"BP test\",\"critical value\"])\n",
    "print(Box_pierce)"
   ]
  },
  {
   "cell_type": "markdown",
   "id": "898b5d05-535f-4735-b4bd-2df3f615046d",
   "metadata": {},
   "source": [
    "From the Box-Pierce test for the auto-correlation values from lag 1 to 50 included, with a 99% confidence level, we reject the null hypothesis. We observe a test statistic of 116.43, which is greater than the threshhold 76.15.We reject the null hypothesis of no autocorrelation at a 99% confidence level. The rejection of the null hypothesis suggests that there is autocorrelation in the Hermes returns series at the lags up to 50. This indicates that past values have a statistically significant correlation with future values in the series, compared to null which claims no autocorrelation in the return series."
   ]
  },
  {
   "cell_type": "markdown",
   "id": "50ce7aab-6e53-4608-b6ff-2cca90b4e16c",
   "metadata": {},
   "source": [
    "**(c)** Compute the partial auto-correlogram up to 20 lags (see function tsaplots.plot pacf\n",
    "in Python) and choose an AR model to fit the series.\n",
    "\n",
    "- i. What is the unconditional expectation of your estimated AR model ?\n",
    "- ii. What is the unconditional variance of your estimated AR model ?"
   ]
  },
  {
   "cell_type": "code",
   "execution_count": 11,
   "id": "023e9c23-1947-4354-a07d-481cae67349e",
   "metadata": {},
   "outputs": [
    {
     "data": {
      "text/plain": [
       "array([ 1.00000000e+00, -5.28495632e-02, -1.08161255e-02, -3.44237540e-02,\n",
       "       -5.51299898e-03, -1.41446311e-02, -2.78980348e-02, -5.87205015e-04,\n",
       "        3.94516227e-02,  1.16638225e-02, -2.11655908e-03,  3.26899043e-02,\n",
       "       -1.27129665e-02, -1.46203864e-02,  1.18176994e-03,  6.98886327e-03,\n",
       "        3.46085924e-03,  2.82469951e-02, -3.83803707e-02, -8.62924048e-03,\n",
       "       -1.25888743e-02])"
      ]
     },
     "execution_count": 11,
     "metadata": {},
     "output_type": "execute_result"
    }
   ],
   "source": [
    "partial_autocorr = pacf(hermes_returns, nlags = 20) # here we compute auto-correlation for the first 50 auto-correlations\n",
    "partial_autocorr"
   ]
  },
  {
   "cell_type": "code",
   "execution_count": 12,
   "id": "e8aefccc-f71c-4882-bab9-6a0de7b2e619",
   "metadata": {},
   "outputs": [
    {
     "data": {
      "image/png": "[encoded data removed]",
      "text/plain": [
       "<Figure size 640x480 with 1 Axes>"
      ]
     },
     "metadata": {},
     "output_type": "display_data"
    }
   ],
   "source": [
    "fig = tsaplots.plot_pacf(hermes_returns, lags=20)\n",
    "plt.show()"
   ]
  },
  {
   "cell_type": "markdown",
   "id": "61b1cce2-e015-40c1-90c5-fa69ea6bcdc7",
   "metadata": {},
   "source": [
    "Partial Autocorrelogram helps pick the p in AR(p) models, since we expect to see zeroes after the p lag. In the hermes returns PACF, it is difficult to make this choice as all lags are centered around zero. There is no clear cutoff. I will go with an AR(1) model as it is slighly outside the confidence bend."
   ]
  },
  {
   "cell_type": "code",
   "execution_count": 13,
   "id": "723f6598-5975-4fbd-88e1-d598c492e49d",
   "metadata": {
    "scrolled": true
   },
   "outputs": [
    {
     "name": "stdout",
     "output_type": "stream",
     "text": [
      "                            AutoReg Model Results                             \n",
      "==============================================================================\n",
      "Dep. Variable:         Hermes returns   No. Observations:                 6235\n",
      "Model:                     AutoReg(1)   Log Likelihood              -12675.407\n",
      "Method:               Conditional MLE   S.D. of innovations              1.848\n",
      "Date:                Sun, 31 Mar 2024   AIC                          25356.814\n",
      "Time:                        21:28:12   BIC                          25377.028\n",
      "Sample:                             1   HQIC                         25363.820\n",
      "                                 6235                                         \n",
      "=====================================================================================\n",
      "                        coef    std err          z      P>|z|      [0.025      0.975]\n",
      "-------------------------------------------------------------------------------------\n",
      "const                 0.0860      0.023      3.672      0.000       0.040       0.132\n",
      "Hermes returns.L1    -0.0528      0.013     -4.182      0.000      -0.078      -0.028\n",
      "                                    Roots                                    \n",
      "=============================================================================\n",
      "                  Real          Imaginary           Modulus         Frequency\n",
      "-----------------------------------------------------------------------------\n",
      "AR.1          -18.9243           +0.0000j           18.9243            0.5000\n",
      "-----------------------------------------------------------------------------\n"
     ]
    },
    {
     "data": {
      "image/png": "[encoded data removed]",
      "text/plain": [
       "<Figure size 640x480 with 1 Axes>"
      ]
     },
     "metadata": {},
     "output_type": "display_data"
    }
   ],
   "source": [
    "# Estimation of the AR(1) model\n",
    "\n",
    "AR1_model = AutoReg(hermes_returns, lags=1).fit()\n",
    "print(AR1_model.summary())\n",
    "\n",
    "#  ACF of the residuals\n",
    "residuals = AR1_model.resid\n",
    "fig = tsaplots.plot_acf(residuals, lags=20)"
   ]
  },
  {
   "cell_type": "markdown",
   "id": "ae0d7e5f-ba32-4948-8a5c-470786fc435f",
   "metadata": {},
   "source": [
    "We see no evidence of autocorrelation in the residuals"
   ]
  },
  {
   "cell_type": "code",
   "execution_count": 14,
   "id": "1d88883e-7b4a-4681-8b84-a74ddc28dc9c",
   "metadata": {},
   "outputs": [
    {
     "name": "stdout",
     "output_type": "stream",
     "text": [
      "Unconditional expectation of my AR(1) model is: 0.082\n"
     ]
    }
   ],
   "source": [
    "# Unconditional expectation of my AR model is \n",
    "unconditional_expectation = AR1_model.params.iloc[0]/(1-AR1_model.params.iloc[1])\n",
    "print(f'Unconditional expectation of my AR(1) model is: {unconditional_expectation:.3f}')"
   ]
  },
  {
   "cell_type": "code",
   "execution_count": 15,
   "id": "5689bff3-6657-48d3-8eaa-eff790fb58c5",
   "metadata": {},
   "outputs": [
    {
     "name": "stdout",
     "output_type": "stream",
     "text": [
      "Unconditional variance of my AR(1) model is: 3.427\n"
     ]
    }
   ],
   "source": [
    "# Unconditional variance of my estimated AR(1) model is\n",
    "residuals = AR1_model.resid\n",
    "unconditional_variance = residuals.var(ddof=1) /(1-AR1_model.params.iloc[1]**2)\n",
    "print(f'Unconditional variance of my AR(1) model is: {unconditional_variance:.3f}')"
   ]
  },
  {
   "cell_type": "markdown",
   "id": "f30abb71-988e-4964-9de5-c51e57060c6c",
   "metadata": {},
   "source": [
    "**(d)** Make a prediction of the next return using the AR model chosen in the previous\n",
    "question."
   ]
  },
  {
   "cell_type": "markdown",
   "id": "ae7f99d1-172a-473f-b03b-b68bd4d44c65",
   "metadata": {},
   "source": [
    "We make prediction using the following equation: yt+1 = beta_0 + beta_1 * yt + et+1. I do not observe the shock at time t+1. It is on average equal to zero.My best guess is yt+1 = beta_0 + beta_1 * yt. This best guess corresponds to the conditional expectation of the model. yt is the latest return in the series. "
   ]
  },
  {
   "cell_type": "code",
   "execution_count": 16,
   "id": "db5ddaae-5130-49ce-a3f7-36728300dc76",
   "metadata": {},
   "outputs": [
    {
     "name": "stdout",
     "output_type": "stream",
     "text": [
      "Next predicted Hermes return is: 0.115\n"
     ]
    }
   ],
   "source": [
    "predicted_return = AR1_model.params.iloc[0] + (AR1_model.params.iloc[1]*data['Hermes returns'].iloc[-1])\n",
    "print(f'Next predicted Hermes return is: {predicted_return:.3f}')"
   ]
  },
  {
   "cell_type": "markdown",
   "id": "55c9fffb-d806-44eb-a93b-b50cae453edd",
   "metadata": {},
   "source": [
    "**(e)** Assess the uncertainty of the prediction of the next return\n",
    "\n",
    "Assuming that the error term is normally distributed and denoting by  yt the Hermes return at time t, the next return of an AR(p) model is a realization of the following Normal distribution:\n",
    "\n",
    "- yT +1|yT , yT −1, . . . ∼ N(β0 + β1yT + . . . + βpyT −p+1, σ2)\n",
    "\n",
    "In this model, the parameters {β0, β1, . . . , βp} are estimated by minimizing the sum of squared residuals using the OLS or the AutoReg packages, and σ2 is the variance of the error term. To estimate the variance of the error term, we compute the empirical variance of the residuals.\n",
    "Using the estimate of σ2, build an interval such that we have a probability of 95% that our next return will fall within it, assuming that our Normality assumption holds."
   ]
  },
  {
   "cell_type": "code",
   "execution_count": 17,
   "id": "ce1778bc-18ec-46c6-8488-387eae74f979",
   "metadata": {},
   "outputs": [
    {
     "name": "stdout",
     "output_type": "stream",
     "text": [
      "Variance of residuals is: 3.417\n"
     ]
    }
   ],
   "source": [
    "AR1_residuals = AR1_model.resid\n",
    "sigma_square = AR1_residuals.var(ddof=1)\n",
    "print(f\"Variance of residuals is: {sigma_square:.3f}\")"
   ]
  },
  {
   "cell_type": "code",
   "execution_count": 18,
   "id": "685f87ce-2530-407e-87f6-97d4954c0a0b",
   "metadata": {},
   "outputs": [
    {
     "name": "stdout",
     "output_type": "stream",
     "text": [
      "z-critical is: 1.960\n",
      "z_score is: 3.623\n",
      "Lower Bound is: -3.508\n",
      "Upper Bound is: 3.738\n",
      "Confidence interval such that we have a probability of 95% that our next return will fall within it, assuming Normality assumption holds is: [-3.508 , 3.738]\n"
     ]
    }
   ],
   "source": [
    "# the interval is as follow: predicted_return +/- z * sq.root(variance)\n",
    "\n",
    "z_critical = 1.96 # for normal distribution at 95% confidence interval\n",
    "\n",
    "z_score = z_critical * np.sqrt(sigma_square)\n",
    "\n",
    "lower_bound = predicted_return - z_score\n",
    "upper_bound = predicted_return + z_score\n",
    "\n",
    "\n",
    "print(f\"z-critical is: {z_critical:.3f}\")\n",
    "print(f\"z_score is: {z_score:.3f}\")\n",
    "print(f\"Lower Bound is: {lower_bound:.3f}\")\n",
    "print(f\"Upper Bound is: {upper_bound:.3f}\")\n",
    "print(f\"Confidence interval such that we have a probability of 95% that our next return will fall within it, assuming Normality assumption holds is: [{lower_bound:.3f} , {upper_bound:.3f}]\")"
   ]
  },
  {
   "cell_type": "markdown",
   "id": "9670f466-287b-4df4-80e3-7c5a619ff49a",
   "metadata": {},
   "source": [
    "This is a very wide confidence interval and is explained by the large variance of the error term, reflecting high uncertainty."
   ]
  },
  {
   "cell_type": "markdown",
   "id": "f06d1424-590f-4f19-b1dc-7c643ac0f489",
   "metadata": {},
   "source": [
    "**(f)** Bonus (optional). Returns are typically not normally distributed. Instead of\n",
    "using a Normal distribution as we did in the previous question, build the same\n",
    "interval but using a student distribution. To do so, estimate the degree of freedom\n",
    "of the student distribution that fits best the standardized residuals of the estimated\n",
    "AR model."
   ]
  },
  {
   "cell_type": "code",
   "execution_count": 19,
   "id": "9d347323-1b68-4395-8bae-f7c868abbcea",
   "metadata": {},
   "outputs": [
    {
     "name": "stdout",
     "output_type": "stream",
     "text": [
      "Degree of freedom is: 6233.000\n",
      "T-critical is: 1.960\n",
      "T_score is: 3.624\n",
      "Lower Bound is: -3.509\n",
      "Upper Bound is: 3.739\n",
      "Confidence interval such that we have a probability of 95% that our next return will fall within it, assuming Normality assumption holds is: [-3.509 , 3.739]\n"
     ]
    }
   ],
   "source": [
    "from scipy.stats import t\n",
    "\n",
    "N = len(hermes_returns) # sample size\n",
    "# Calculate the degrees of freedom\n",
    "df = N - 2 # 2 is number of parameters\n",
    "\n",
    "t_critical = t.ppf(0.975, df)\n",
    "\n",
    "\n",
    "# Use the estimated degrees of freedom to calculate the t-score for the 95% confidence level\n",
    "t_critical = t.ppf(0.975, df)\n",
    "\n",
    "# Calculate the 95% prediction interval using the t distribution\n",
    "t_score = t_critical * (sigma_square ** 0.5)\n",
    "\n",
    "lower_bound = predicted_return - t_score\n",
    "upper_bound = predicted_return + t_score\n",
    "\n",
    "print(f\"Degree of freedom is: {df:.3f}\")\n",
    "print(f\"T-critical is: {t_critical:.3f}\")\n",
    "print(f\"T_score is: {t_score:.3f}\")\n",
    "print(f\"Lower Bound is: {lower_bound:.3f}\")\n",
    "print(f\"Upper Bound is: {upper_bound:.3f}\")\n",
    "print(f\"Confidence interval such that we have a probability of 95% that our next return will fall within it, assuming Normality assumption holds is: [{lower_bound:.3f} , {upper_bound:.3f}]\")"
   ]
  },
  {
   "cell_type": "markdown",
   "id": "3cd82185-ff4a-45db-827d-3205a652b710",
   "metadata": {},
   "source": [
    "We notice that the interval is similar to the one from Normal Distribution due to large sample size. As the sample size increases, the Student's t distribution converges to the normal distribution. This is a consequence of the Central Limit Theorem. With a high degree of freedom, the t distribution's tails become less heavy, and its shape more closely resembles the bell curve of the normal distribution. Therefore, for large sample sizes, the t distribution and the normal distribution will give similar results for prediction intervals."
   ]
  },
  {
   "cell_type": "markdown",
   "id": "4d82e2f1-eab8-4961-ad9c-2dd9b2398aae",
   "metadata": {},
   "source": [
    "### Question 2 - Using returns from Hermes and BlackRock, find the minimum variance portfolio.\n",
    "\r",
    "**(a)**  The portfolio that exhibits the smallest\r\n",
    "variance is given by ω =\r\n",
    "Σ−11\r\n",
    "10Σ−11\r\n",
    "in which 1 is a 2 by 1 vector filled with ones and Σ\r\n",
    "stands for the covariance matrix of the asset returns. Compute this portfolio and\r\n",
    "provide the proportion of wealth that should be invested in Hermes according to\r\n",
    "it.\r"
   ]
  },
  {
   "cell_type": "code",
   "execution_count": 20,
   "id": "1b73ed2f-0ff0-4f8e-9e1c-d991a4c174fe",
   "metadata": {},
   "outputs": [
    {
     "name": "stdout",
     "output_type": "stream",
     "text": [
      "Shape of returns:  6235\n",
      "Dimension 2\n"
     ]
    }
   ],
   "source": [
    "# Computing array with both returns\n",
    "\n",
    "ret_all = data[[\"Hermes returns\",\"BLK returns\"]].to_numpy()\n",
    "N = np.shape(ret_all)[0]\n",
    "dimension = np.shape(ret_all)[1]\n",
    "\n",
    "print('Shape of returns: ', N)\n",
    "print('Dimension', dimension)"
   ]
  },
  {
   "cell_type": "code",
   "execution_count": 21,
   "id": "c2d232a3-0874-4d2c-a6b2-b6575414db66",
   "metadata": {},
   "outputs": [
    {
     "name": "stdout",
     "output_type": "stream",
     "text": [
      "               Mean  Emp. Var.\n",
      "Hermes     0.080779   3.432410\n",
      "Blackrock  0.091472   4.480649\n",
      "\n",
      "Dimension of Covariance Matrix:  (2, 2)\n"
     ]
    }
   ],
   "source": [
    "# Computing the mean and the covariance matrix\n",
    "\n",
    "ret_mean = np.mean(ret_all,0)\n",
    "cov_mat = np.cov(ret_all.transpose())\n",
    "\n",
    "var_for_DF = np.zeros([2,2]) \n",
    "var_for_DF[:,0] = ret_mean\n",
    "var_for_DF[:,1] = np.diag(cov_mat)\n",
    "DF = pd.DataFrame(var_for_DF,columns=['Mean','Emp. Var.'],index=['Hermes','Blackrock'])\n",
    "\n",
    "print(DF)\n",
    "print()\n",
    "print('Dimension of Covariance Matrix: ', cov_mat.shape)"
   ]
  },
  {
   "cell_type": "code",
   "execution_count": 22,
   "id": "d538b0d9-de04-4a3b-9b14-0f414d9c5735",
   "metadata": {},
   "outputs": [
    {
     "name": "stdout",
     "output_type": "stream",
     "text": [
      "Portfolio exhibiting the smallest variance among all possible portfolios: [0.58395254 0.41604746]\n"
     ]
    }
   ],
   "source": [
    "inv_cov = np.linalg.inv(cov_mat) # inverse of the covariance matrix\n",
    "vect_ones = np.ones([2]) # vector of ones\n",
    "\n",
    "opt_port = np.matmul(inv_cov,vect_ones)/(np.matmul(vect_ones,np.matmul(inv_cov,vect_ones))) # optimal portfolio\n",
    "\n",
    "print('Portfolio exhibiting the smallest variance among all possible portfolios: ' + str(opt_port))"
   ]
  },
  {
   "cell_type": "code",
   "execution_count": 23,
   "id": "2064a53c-efc2-41dc-b9b9-96b2d23d21af",
   "metadata": {},
   "outputs": [
    {
     "name": "stdout",
     "output_type": "stream",
     "text": [
      "Weight to invest in Hermes: 0.584\n",
      "Weight to invest in Blackrock: 0.416\n"
     ]
    }
   ],
   "source": [
    "print('Weight to invest in Hermes: ' + f'{opt_port[0]:.3f}')\n",
    "print('Weight to invest in Blackrock: ' + f'{opt_port[1]:.3f}')"
   ]
  },
  {
   "cell_type": "markdown",
   "id": "b96c5979-0923-4709-b6c5-a2b7d9435baa",
   "metadata": {},
   "source": [
    "For the portfolio that exhibits the smallest variance, the proportion of wealth that should be invested in Hermes is approximately 58.40%. This means that 58.40% of the total investment should be allocated to Hermes to achieve the lowest possible portfolio variance. ​The rest, 41.6% should be invested in Blackrock. "
   ]
  },
  {
   "cell_type": "markdown",
   "id": "41c537e0-c7c0-4a81-9293-ab89f904b3f7",
   "metadata": {},
   "source": [
    "### Question 3 - Let us denote by yt the Hermes returns at time t.\n",
    "\n",
    "**a)** We consider the demeaned series zt = yt - ȳ in which ȳ is estimated as ȳ = 1/T Σt=1^T yt (i.e., the average return).\n",
    "\n",
    "Assuming that a return at time t is a realization from the random variable Yt exhibiting a constant expectation µ and a time-varying variance σ^2t. Show that (Yt - µ)^2 is an unbiased estimator of the variance σ^2t."
   ]
  },
  {
   "cell_type": "markdown",
   "id": "bd81e572-d511-4604-8700-6a70233d68c0",
   "metadata": {},
   "source": [
    "Every time we get a new sample, we get a new estimate. If my estimate is unbiased, on average, all estimates will be very close to the true coefficient if had an infinite amount of samples. So an estimate is said to be unbiased if its expected value is very close to the true parameter value.\n",
    "\n",
    "E[(Yt - E(Yt))^2] = σ^2t </br>\n",
    "Since E(Yt) = μ we simplify the formula: E[(Yt - μ)^2]. </br>\n",
    "(Yt - μ)^2 represents the squared deviation of Yt from its mean. </br>\n",
    "\n",
    "The variance itself is defined as the expected value of the squared deviations from the mean. This shows that (Yt - µ)^2 is indeed an unbiased estimator of the variance."
   ]
  },
  {
   "cell_type": "markdown",
   "id": "1e0b03b1-d790-4fc8-813c-d995480b8be8",
   "metadata": {},
   "source": [
    "**b)** We consider the squared demeaned returns: {z^2t} from t=1 to T. According to the previous question, if the expectation is constant over time, the squared demeaned return stands for an estimate of the time-varying variance. Perform a Box-Pierce test for the autocorrelation values of the squared demeaned returns from lag 1 to 50 included. With a 99% confidence level, do you reject the Null hypothesis of the test. What do you conclude?"
   ]
  },
  {
   "cell_type": "code",
   "execution_count": 24,
   "id": "9e73edc7-6e2e-4507-89e2-41a8456e045a",
   "metadata": {},
   "outputs": [
    {
     "name": "stdout",
     "output_type": "stream",
     "text": [
      "[1.         0.25371677 0.17290657 0.14063168 0.11227725 0.1298584\n",
      " 0.10939418 0.12493983 0.10967285 0.13015984 0.10631578 0.15880319\n",
      " 0.12132527 0.11181121 0.09563384 0.0965897  0.13598398 0.07908337\n",
      " 0.12198292 0.11280555 0.0824412  0.09665977 0.0854188  0.09032234\n",
      " 0.07937956 0.08045275 0.08125859 0.17872429 0.10738065 0.09770579\n",
      " 0.09403275 0.06310008 0.06668322 0.06063927 0.07110636 0.0785562\n",
      " 0.06782967 0.09833119 0.09713726 0.09641747 0.10389199 0.08644204\n",
      " 0.08692558 0.08598456 0.05009639 0.04246928 0.06748054 0.0644648\n",
      " 0.05744659 0.04305022 0.0785318 ]\n"
     ]
    }
   ],
   "source": [
    "avg_hermes_returns = hermes_returns.mean()\n",
    "zt = hermes_returns - avg_hermes_returns\n",
    "zt_squared = zt** 2\n",
    "\n",
    "autocorr = acf(zt_squared, nlags = 50,fft=False) # here we compute auto-correlation for the first 50 auto-correlations\n",
    "print(autocorr) # printing autocorr "
   ]
  },
  {
   "cell_type": "code",
   "execution_count": 25,
   "id": "caf6076b-9f26-4184-9af9-448dfa237b9a",
   "metadata": {
    "scrolled": true
   },
   "outputs": [
    {
     "name": "stdout",
     "output_type": "stream",
     "text": [
      "Test statistics: 3500.06\n",
      "Reject the Null hypothesis if above the following threshold: 76.15\n",
      "       BP test  critical value\n",
      "0  3500.060091       76.153891\n"
     ]
    }
   ],
   "source": [
    "# Let's do a Box-Pierce \n",
    "\n",
    "T = len(zt_squared) # hermes returns sample size\n",
    "test = T*np.sum(autocorr[1:51]**2) # BP test statistic\n",
    "df = np.size(autocorr[1:51]) # 50 lags\n",
    "threshold = stats.chi2.ppf(0.99,df) # 99% confidence interval\n",
    "print('Test statistics: ' + str(round(test,2)))\n",
    "print('Reject the Null hypothesis if above the following threshold: ' + str(round(threshold,2)))\n",
    "Box_pierce = pd.DataFrame(np.reshape([test,threshold],[1,2]),columns=[\"BP test\",\"critical value\"])\n",
    "print(Box_pierce)"
   ]
  },
  {
   "cell_type": "code",
   "execution_count": 26,
   "id": "7e1df80d-7762-42a4-a720-87ba1c038031",
   "metadata": {
    "scrolled": true
   },
   "outputs": [
    {
     "data": {
      "image/png": "[encoded data removed]",
      "text/plain": [
       "<Figure size 640x480 with 1 Axes>"
      ]
     },
     "execution_count": 26,
     "metadata": {},
     "output_type": "execute_result"
    },
    {
     "data": {
      "image/png": "[encoded data removed]",
      "text/plain": [
       "<Figure size 640x480 with 1 Axes>"
      ]
     },
     "metadata": {},
     "output_type": "display_data"
    },
    {
     "data": {
      "image/png": "[encoded data removed]",
      "text/plain": [
       "<Figure size 640x480 with 1 Axes>"
      ]
     },
     "metadata": {},
     "output_type": "display_data"
    }
   ],
   "source": [
    "tsaplots.plot_acf(zt_squared, lags=50)\n",
    "tsaplots.plot_pacf(zt_squared, lags=50)"
   ]
  },
  {
   "cell_type": "markdown",
   "id": "2215325f-3752-4cb1-9e72-d306fb897971",
   "metadata": {},
   "source": [
    "From the Box-Pierce test for the auto-correlation values from lag 1 to 50 included, with a 99% confidence level, we reject the null hypothesis. We observe a very large test statistic of 3500, which is greater than the threshhold 76.15.We reject the null hypothesis of no autocorrelation at a 99% confidence level. The rejection of the null hypothesis suggests that there is autocorrelation in the squared demeaned Hermes returns series at the lags up to 50. This suggests that the variance of the returns is time-varying and not independent across time, which shows the presence of volatility in Hermes returns. </br>\n",
    "This finding reinforces that financial returns have time-varying volatility, and when there is high volatility, future returns are expected to be highly volatile, or on the other hand, low volatility is followed by low volatility, which means series are autocorrelated."
   ]
  },
  {
   "cell_type": "markdown",
   "id": "30f59bc8-248d-4d06-9c77-3ad05e9884d8",
   "metadata": {},
   "source": [
    "**c)** Using the Bayesian Information Criterion (BIC), which model fits best the squared demeaned returns between an AR(9) model and an ARMA(1,1) model? "
   ]
  },
  {
   "cell_type": "code",
   "execution_count": 27,
   "id": "760880a4-9c81-40b8-8b77-79be1746ca59",
   "metadata": {},
   "outputs": [
    {
     "name": "stdout",
     "output_type": "stream",
     "text": [
      "BIC for AR(9): 45401.234\n",
      "BIC for ARMA(1,1): 45335.849\n",
      "\n",
      "ARMA(1,1) is preferred according to BIC, compared to AR(9).\n"
     ]
    }
   ],
   "source": [
    "## Estimating the AR(9) model\n",
    "AR9_model = ARIMA(zt_squared, order=(9,0,0)).fit()\n",
    "\n",
    "## Estimating the ARMA(1,1) model\n",
    "\n",
    "ARMA_model = ARIMA(zt_squared, order=(1,0,1)).fit()\n",
    "\n",
    "## Storing the value of the BIC for both models\n",
    "\n",
    "BIC_AR9 = AR9_model.bic\n",
    "BIC_ARMA = ARMA_model.bic\n",
    "\n",
    "print(f\"BIC for AR(9): {BIC_AR9:.3f}\")\n",
    "print(f\"BIC for ARMA(1,1): {BIC_ARMA:.3f}\")\n",
    "print()\n",
    "\n",
    "# Selecting the best model\n",
    "\n",
    "if(BIC_AR9<BIC_ARMA):\n",
    "    print('AR(9) is preferred according to BIC, compared to ARMA(1,1).')\n",
    "else:\n",
    "    print('ARMA(1,1) is preferred according to BIC, compared to AR(9).')"
   ]
  },
  {
   "cell_type": "markdown",
   "id": "52b107a0-58c7-4d76-b81e-4a38e321f2fe",
   "metadata": {},
   "source": [
    "### Question 4 - Find the minimum variance portfolio with time-varying variance.\n",
    "\n",
    "**(a)** Using the squared demeaned returns of Hermes and an ARMA(1,1) model, predict the next squared demeaned return of the series, denoted by ˆσ^2T+1,HM. What is your prediction?"
   ]
  },
  {
   "cell_type": "code",
   "execution_count": 28,
   "id": "33841182-22b4-4ce8-b2e0-b845589cf3c4",
   "metadata": {
    "scrolled": true
   },
   "outputs": [
    {
     "data": {
      "text/html": [
       "<table class=\"simpletable\">\n",
       "<caption>SARIMAX Results</caption>\n",
       "<tr>\n",
       "  <th>Dep. Variable:</th>    <td>Hermes returns</td>  <th>  No. Observations:  </th>    <td>6235</td>   \n",
       "</tr>\n",
       "<tr>\n",
       "  <th>Model:</th>            <td>ARIMA(1, 0, 1)</td>  <th>  Log Likelihood     </th> <td>-22650.449</td>\n",
       "</tr>\n",
       "<tr>\n",
       "  <th>Date:</th>            <td>Sun, 31 Mar 2024</td> <th>  AIC                </th>  <td>45308.898</td>\n",
       "</tr>\n",
       "<tr>\n",
       "  <th>Time:</th>                <td>21:28:22</td>     <th>  BIC                </th>  <td>45335.849</td>\n",
       "</tr>\n",
       "<tr>\n",
       "  <th>Sample:</th>                  <td>0</td>        <th>  HQIC               </th>  <td>45318.239</td>\n",
       "</tr>\n",
       "<tr>\n",
       "  <th></th>                      <td> - 6235</td>     <th>                     </th>      <td> </td>    \n",
       "</tr>\n",
       "<tr>\n",
       "  <th>Covariance Type:</th>        <td>opg</td>       <th>                     </th>      <td> </td>    \n",
       "</tr>\n",
       "</table>\n",
       "<table class=\"simpletable\">\n",
       "<tr>\n",
       "     <td></td>       <th>coef</th>     <th>std err</th>      <th>z</th>      <th>P>|z|</th>  <th>[0.025</th>    <th>0.975]</th>  \n",
       "</tr>\n",
       "<tr>\n",
       "  <th>const</th>  <td>    3.5419</td> <td>    0.809</td> <td>    4.378</td> <td> 0.000</td> <td>    1.956</td> <td>    5.128</td>\n",
       "</tr>\n",
       "<tr>\n",
       "  <th>ar.L1</th>  <td>    0.9762</td> <td>    0.002</td> <td>  441.387</td> <td> 0.000</td> <td>    0.972</td> <td>    0.981</td>\n",
       "</tr>\n",
       "<tr>\n",
       "  <th>ma.L1</th>  <td>   -0.8998</td> <td>    0.003</td> <td> -282.841</td> <td> 0.000</td> <td>   -0.906</td> <td>   -0.894</td>\n",
       "</tr>\n",
       "<tr>\n",
       "  <th>sigma2</th> <td>   83.7294</td> <td>    0.203</td> <td>  412.582</td> <td> 0.000</td> <td>   83.332</td> <td>   84.127</td>\n",
       "</tr>\n",
       "</table>\n",
       "<table class=\"simpletable\">\n",
       "<tr>\n",
       "  <th>Ljung-Box (L1) (Q):</th>     <td>66.67</td> <th>  Jarque-Bera (JB):  </th> <td>12765359.91</td>\n",
       "</tr>\n",
       "<tr>\n",
       "  <th>Prob(Q):</th>                <td>0.00</td>  <th>  Prob(JB):          </th>    <td>0.00</td>    \n",
       "</tr>\n",
       "<tr>\n",
       "  <th>Heteroskedasticity (H):</th> <td>0.30</td>  <th>  Skew:              </th>    <td>10.82</td>   \n",
       "</tr>\n",
       "<tr>\n",
       "  <th>Prob(H) (two-sided):</th>    <td>0.00</td>  <th>  Kurtosis:          </th>   <td>223.61</td>   \n",
       "</tr>\n",
       "</table><br/><br/>Warnings:<br/>[1] Covariance matrix calculated using the outer product of gradients (complex-step)."
      ],
      "text/latex": [
       "\\begin{center}\n",
       "\\begin{tabular}{lclc}\n",
       "\\toprule\n",
       "\\textbf{Dep. Variable:}          &  Hermes returns  & \\textbf{  No. Observations:  } &     6235     \\\\\n",
       "\\textbf{Model:}                  &  ARIMA(1, 0, 1)  & \\textbf{  Log Likelihood     } &  -22650.449  \\\\\n",
       "\\textbf{Date:}                   & Sun, 31 Mar 2024 & \\textbf{  AIC                } &  45308.898   \\\\\n",
       "\\textbf{Time:}                   &     21:28:22     & \\textbf{  BIC                } &  45335.849   \\\\\n",
       "\\textbf{Sample:}                 &        0         & \\textbf{  HQIC               } &  45318.239   \\\\\n",
       "\\textbf{}                        &      - 6235      & \\textbf{                     } &              \\\\\n",
       "\\textbf{Covariance Type:}        &       opg        & \\textbf{                     } &              \\\\\n",
       "\\bottomrule\n",
       "\\end{tabular}\n",
       "\\begin{tabular}{lcccccc}\n",
       "                & \\textbf{coef} & \\textbf{std err} & \\textbf{z} & \\textbf{P$> |$z$|$} & \\textbf{[0.025} & \\textbf{0.975]}  \\\\\n",
       "\\midrule\n",
       "\\textbf{const}  &       3.5419  &        0.809     &     4.378  &         0.000        &        1.956    &        5.128     \\\\\n",
       "\\textbf{ar.L1}  &       0.9762  &        0.002     &   441.387  &         0.000        &        0.972    &        0.981     \\\\\n",
       "\\textbf{ma.L1}  &      -0.8998  &        0.003     &  -282.841  &         0.000        &       -0.906    &       -0.894     \\\\\n",
       "\\textbf{sigma2} &      83.7294  &        0.203     &   412.582  &         0.000        &       83.332    &       84.127     \\\\\n",
       "\\bottomrule\n",
       "\\end{tabular}\n",
       "\\begin{tabular}{lclc}\n",
       "\\textbf{Ljung-Box (L1) (Q):}     & 66.67 & \\textbf{  Jarque-Bera (JB):  } & 12765359.91  \\\\\n",
       "\\textbf{Prob(Q):}                &  0.00 & \\textbf{  Prob(JB):          } &     0.00     \\\\\n",
       "\\textbf{Heteroskedasticity (H):} &  0.30 & \\textbf{  Skew:              } &    10.82     \\\\\n",
       "\\textbf{Prob(H) (two-sided):}    &  0.00 & \\textbf{  Kurtosis:          } &    223.61    \\\\\n",
       "\\bottomrule\n",
       "\\end{tabular}\n",
       "%\\caption{SARIMAX Results}\n",
       "\\end{center}\n",
       "\n",
       "Warnings: \\newline\n",
       " [1] Covariance matrix calculated using the outer product of gradients (complex-step)."
      ],
      "text/plain": [
       "<class 'statsmodels.iolib.summary.Summary'>\n",
       "\"\"\"\n",
       "                               SARIMAX Results                                \n",
       "==============================================================================\n",
       "Dep. Variable:         Hermes returns   No. Observations:                 6235\n",
       "Model:                 ARIMA(1, 0, 1)   Log Likelihood              -22650.449\n",
       "Date:                Sun, 31 Mar 2024   AIC                          45308.898\n",
       "Time:                        21:28:22   BIC                          45335.849\n",
       "Sample:                             0   HQIC                         45318.239\n",
       "                               - 6235                                         \n",
       "Covariance Type:                  opg                                         \n",
       "==============================================================================\n",
       "                 coef    std err          z      P>|z|      [0.025      0.975]\n",
       "------------------------------------------------------------------------------\n",
       "const          3.5419      0.809      4.378      0.000       1.956       5.128\n",
       "ar.L1          0.9762      0.002    441.387      0.000       0.972       0.981\n",
       "ma.L1         -0.8998      0.003   -282.841      0.000      -0.906      -0.894\n",
       "sigma2        83.7294      0.203    412.582      0.000      83.332      84.127\n",
       "===================================================================================\n",
       "Ljung-Box (L1) (Q):                  66.67   Jarque-Bera (JB):          12765359.91\n",
       "Prob(Q):                              0.00   Prob(JB):                         0.00\n",
       "Heteroskedasticity (H):               0.30   Skew:                            10.82\n",
       "Prob(H) (two-sided):                  0.00   Kurtosis:                       223.61\n",
       "===================================================================================\n",
       "\n",
       "Warnings:\n",
       "[1] Covariance matrix calculated using the outer product of gradients (complex-step).\n",
       "\"\"\""
      ]
     },
     "execution_count": 28,
     "metadata": {},
     "output_type": "execute_result"
    }
   ],
   "source": [
    "ARMA_model.summary()"
   ]
  },
  {
   "cell_type": "code",
   "execution_count": 29,
   "id": "24d2a275-4f1b-4afb-a4d3-dea4f43a2780",
   "metadata": {
    "scrolled": true
   },
   "outputs": [
    {
     "name": "stdout",
     "output_type": "stream",
     "text": [
      "The next squared demeaned return of the Hermes returns is: 3.781\n",
      "The next level demeaned return of the Hermes returns is: 1.944\n"
     ]
    }
   ],
   "source": [
    "hermes_returns = data['Hermes returns']\n",
    "avg_hermes_returns = hermes_returns.mean()\n",
    "zt_hermes = hermes_returns - avg_hermes_returns\n",
    "zt_hermes_squared = zt_hermes** 2\n",
    "\n",
    "T = len(zt_hermes_squared)\n",
    "\n",
    "next_sq_hermes_return= ARMA_model.predict(start=T,end=T+1).reset_index(drop=True)[0]\n",
    "\n",
    "print(f\"The next squared demeaned return of the Hermes returns is: {next_sq_hermes_return:.3f}\")\n",
    "print(f\"The next level demeaned return of the Hermes returns is: {np.sqrt(next_sq_hermes_return):.3f}\")"
   ]
  },
  {
   "cell_type": "code",
   "execution_count": 30,
   "id": "d00e9acc-6757-4fbb-a9af-bc544fc8be23",
   "metadata": {},
   "outputs": [
    {
     "name": "stdout",
     "output_type": "stream",
     "text": [
      "The next squared demeaned return of the Hermes returns is: 3.778\n",
      "The next level demeaned return of the Hermes returns is: 1.944\n"
     ]
    }
   ],
   "source": [
    "# another way of doing this directly using the equation\n",
    "\n",
    "sigma2_T_hermes = zt_hermes_squared.iloc[-1] # previous value \n",
    "avg_squared_hermes_returns = zt_hermes_squared.mean() # average\n",
    "AR_param_hermes = ARMA_model.params.iloc[1]  # AR(1) coefficient\n",
    "MA_param_hermes = ARMA_model.params.iloc[2]  # MA(1) coefficient\n",
    "residuals_T_hermes = ARMA_model.resid.iloc[-1] # error term at time t\n",
    "\n",
    "next_sq_hermes_return = avg_squared_hermes_returns + AR_param_hermes * (sigma2_T_hermes- avg_squared_hermes_returns) + MA_param_hermes * residuals_T_hermes\n",
    "\n",
    "print(f\"The next squared demeaned return of the Hermes returns is: {next_sq_hermes_return:.3f}\")\n",
    "print(f\"The next level demeaned return of the Hermes returns is: {np.sqrt(next_sq_hermes_return):.3f}\")"
   ]
  },
  {
   "cell_type": "markdown",
   "id": "10aacaa8-6cae-40c6-8de9-fe1955f2c05a",
   "metadata": {},
   "source": [
    "**(b)** Using the squared demeaned returns of BlackRock and an ARMA(1,1) model, predict the next squared demeaned return of the series, denoted by ˆσ^2T+1,BLK. What is your prediction?"
   ]
  },
  {
   "cell_type": "code",
   "execution_count": 31,
   "id": "5406053b-e7e0-4724-8be1-5e8a642810cc",
   "metadata": {},
   "outputs": [
    {
     "data": {
      "text/html": [
       "<table class=\"simpletable\">\n",
       "<caption>SARIMAX Results</caption>\n",
       "<tr>\n",
       "  <th>Dep. Variable:</th>      <td>BLK returns</td>   <th>  No. Observations:  </th>    <td>6235</td>   \n",
       "</tr>\n",
       "<tr>\n",
       "  <th>Model:</th>            <td>ARIMA(1, 0, 1)</td>  <th>  Log Likelihood     </th> <td>-24906.193</td>\n",
       "</tr>\n",
       "<tr>\n",
       "  <th>Date:</th>            <td>Sun, 31 Mar 2024</td> <th>  AIC                </th>  <td>49820.386</td>\n",
       "</tr>\n",
       "<tr>\n",
       "  <th>Time:</th>                <td>21:28:23</td>     <th>  BIC                </th>  <td>49847.338</td>\n",
       "</tr>\n",
       "<tr>\n",
       "  <th>Sample:</th>                  <td>0</td>        <th>  HQIC               </th>  <td>49829.728</td>\n",
       "</tr>\n",
       "<tr>\n",
       "  <th></th>                      <td> - 6235</td>     <th>                     </th>      <td> </td>    \n",
       "</tr>\n",
       "<tr>\n",
       "  <th>Covariance Type:</th>        <td>opg</td>       <th>                     </th>      <td> </td>    \n",
       "</tr>\n",
       "</table>\n",
       "<table class=\"simpletable\">\n",
       "<tr>\n",
       "     <td></td>       <th>coef</th>     <th>std err</th>      <th>z</th>      <th>P>|z|</th>  <th>[0.025</th>    <th>0.975]</th>  \n",
       "</tr>\n",
       "<tr>\n",
       "  <th>const</th>  <td>    4.4715</td> <td>    1.446</td> <td>    3.092</td> <td> 0.002</td> <td>    1.637</td> <td>    7.306</td>\n",
       "</tr>\n",
       "<tr>\n",
       "  <th>ar.L1</th>  <td>    0.9768</td> <td>    0.002</td> <td>  590.645</td> <td> 0.000</td> <td>    0.974</td> <td>    0.980</td>\n",
       "</tr>\n",
       "<tr>\n",
       "  <th>ma.L1</th>  <td>   -0.8806</td> <td>    0.003</td> <td> -286.544</td> <td> 0.000</td> <td>   -0.887</td> <td>   -0.875</td>\n",
       "</tr>\n",
       "<tr>\n",
       "  <th>sigma2</th> <td>  172.6383</td> <td>    0.536</td> <td>  322.358</td> <td> 0.000</td> <td>  171.589</td> <td>  173.688</td>\n",
       "</tr>\n",
       "</table>\n",
       "<table class=\"simpletable\">\n",
       "<tr>\n",
       "  <th>Ljung-Box (L1) (Q):</th>     <td>0.34</td> <th>  Jarque-Bera (JB):  </th> <td>7292500.09</td>\n",
       "</tr>\n",
       "<tr>\n",
       "  <th>Prob(Q):</th>                <td>0.56</td> <th>  Prob(JB):          </th>    <td>0.00</td>   \n",
       "</tr>\n",
       "<tr>\n",
       "  <th>Heteroskedasticity (H):</th> <td>0.78</td> <th>  Skew:              </th>    <td>9.66</td>   \n",
       "</tr>\n",
       "<tr>\n",
       "  <th>Prob(H) (two-sided):</th>    <td>0.00</td> <th>  Kurtosis:          </th>   <td>169.42</td>  \n",
       "</tr>\n",
       "</table><br/><br/>Warnings:<br/>[1] Covariance matrix calculated using the outer product of gradients (complex-step)."
      ],
      "text/latex": [
       "\\begin{center}\n",
       "\\begin{tabular}{lclc}\n",
       "\\toprule\n",
       "\\textbf{Dep. Variable:}          &   BLK returns    & \\textbf{  No. Observations:  } &    6235     \\\\\n",
       "\\textbf{Model:}                  &  ARIMA(1, 0, 1)  & \\textbf{  Log Likelihood     } & -24906.193  \\\\\n",
       "\\textbf{Date:}                   & Sun, 31 Mar 2024 & \\textbf{  AIC                } & 49820.386   \\\\\n",
       "\\textbf{Time:}                   &     21:28:23     & \\textbf{  BIC                } & 49847.338   \\\\\n",
       "\\textbf{Sample:}                 &        0         & \\textbf{  HQIC               } & 49829.728   \\\\\n",
       "\\textbf{}                        &      - 6235      & \\textbf{                     } &             \\\\\n",
       "\\textbf{Covariance Type:}        &       opg        & \\textbf{                     } &             \\\\\n",
       "\\bottomrule\n",
       "\\end{tabular}\n",
       "\\begin{tabular}{lcccccc}\n",
       "                & \\textbf{coef} & \\textbf{std err} & \\textbf{z} & \\textbf{P$> |$z$|$} & \\textbf{[0.025} & \\textbf{0.975]}  \\\\\n",
       "\\midrule\n",
       "\\textbf{const}  &       4.4715  &        1.446     &     3.092  &         0.002        &        1.637    &        7.306     \\\\\n",
       "\\textbf{ar.L1}  &       0.9768  &        0.002     &   590.645  &         0.000        &        0.974    &        0.980     \\\\\n",
       "\\textbf{ma.L1}  &      -0.8806  &        0.003     &  -286.544  &         0.000        &       -0.887    &       -0.875     \\\\\n",
       "\\textbf{sigma2} &     172.6383  &        0.536     &   322.358  &         0.000        &      171.589    &      173.688     \\\\\n",
       "\\bottomrule\n",
       "\\end{tabular}\n",
       "\\begin{tabular}{lclc}\n",
       "\\textbf{Ljung-Box (L1) (Q):}     & 0.34 & \\textbf{  Jarque-Bera (JB):  } & 7292500.09  \\\\\n",
       "\\textbf{Prob(Q):}                & 0.56 & \\textbf{  Prob(JB):          } &    0.00     \\\\\n",
       "\\textbf{Heteroskedasticity (H):} & 0.78 & \\textbf{  Skew:              } &    9.66     \\\\\n",
       "\\textbf{Prob(H) (two-sided):}    & 0.00 & \\textbf{  Kurtosis:          } &   169.42    \\\\\n",
       "\\bottomrule\n",
       "\\end{tabular}\n",
       "%\\caption{SARIMAX Results}\n",
       "\\end{center}\n",
       "\n",
       "Warnings: \\newline\n",
       " [1] Covariance matrix calculated using the outer product of gradients (complex-step)."
      ],
      "text/plain": [
       "<class 'statsmodels.iolib.summary.Summary'>\n",
       "\"\"\"\n",
       "                               SARIMAX Results                                \n",
       "==============================================================================\n",
       "Dep. Variable:            BLK returns   No. Observations:                 6235\n",
       "Model:                 ARIMA(1, 0, 1)   Log Likelihood              -24906.193\n",
       "Date:                Sun, 31 Mar 2024   AIC                          49820.386\n",
       "Time:                        21:28:23   BIC                          49847.338\n",
       "Sample:                             0   HQIC                         49829.728\n",
       "                               - 6235                                         \n",
       "Covariance Type:                  opg                                         \n",
       "==============================================================================\n",
       "                 coef    std err          z      P>|z|      [0.025      0.975]\n",
       "------------------------------------------------------------------------------\n",
       "const          4.4715      1.446      3.092      0.002       1.637       7.306\n",
       "ar.L1          0.9768      0.002    590.645      0.000       0.974       0.980\n",
       "ma.L1         -0.8806      0.003   -286.544      0.000      -0.887      -0.875\n",
       "sigma2       172.6383      0.536    322.358      0.000     171.589     173.688\n",
       "===================================================================================\n",
       "Ljung-Box (L1) (Q):                   0.34   Jarque-Bera (JB):           7292500.09\n",
       "Prob(Q):                              0.56   Prob(JB):                         0.00\n",
       "Heteroskedasticity (H):               0.78   Skew:                             9.66\n",
       "Prob(H) (two-sided):                  0.00   Kurtosis:                       169.42\n",
       "===================================================================================\n",
       "\n",
       "Warnings:\n",
       "[1] Covariance matrix calculated using the outer product of gradients (complex-step).\n",
       "\"\"\""
      ]
     },
     "execution_count": 31,
     "metadata": {},
     "output_type": "execute_result"
    }
   ],
   "source": [
    "blackrock_returns = data['BLK returns']\n",
    "avg_blackrock_returns = blackrock_returns.mean()\n",
    "zt_blk = blackrock_returns - avg_blackrock_returns\n",
    "zt_blk_squared = zt_blk** 2\n",
    "\n",
    "ARMA_blk_model = ARIMA(zt_blk_squared, order=(1,0,1)).fit()\n",
    "ARMA_blk_model.summary()"
   ]
  },
  {
   "cell_type": "code",
   "execution_count": 32,
   "id": "108c504f-a5d4-44bc-a045-28c2afabf6fc",
   "metadata": {},
   "outputs": [
    {
     "name": "stdout",
     "output_type": "stream",
     "text": [
      "The next squared demeaned return of the BLK returns is: 1.520\n",
      "The next level demeaned return of the BLK returns is: 1.233\n"
     ]
    }
   ],
   "source": [
    "T = len(zt_blk_squared)\n",
    "\n",
    "next_sq_blk_return = ARMA_blk_model.predict(start=T,end=T+1).reset_index(drop=True)[0]\n",
    "\n",
    "print(f\"The next squared demeaned return of the BLK returns is: {next_sq_blk_return:.3f}\")\n",
    "print(f\"The next level demeaned return of the BLK returns is: {np.sqrt(next_sq_blk_return):.3f}\")"
   ]
  },
  {
   "cell_type": "code",
   "execution_count": 33,
   "id": "00e0dfb0-b3b2-4f20-a09a-66ba3eb9fabf",
   "metadata": {},
   "outputs": [
    {
     "name": "stdout",
     "output_type": "stream",
     "text": [
      "The next squared demeaned return of the BLK returns is: 1.520\n",
      "The next level demeaned return of the BLK returns is: 1.233\n"
     ]
    }
   ],
   "source": [
    "# another way of doing this directly from the equation\n",
    "\n",
    "sigma2_T_blk = zt_blk_squared.iloc[-1] # previous value \n",
    "avg_squared_blk_returns = zt_blk_squared.mean() # average\n",
    "AR_param_blk = ARMA_blk_model.params.iloc[1]  # AR(1) coefficient\n",
    "MA_param_blk = ARMA_blk_model.params.iloc[2]  # MA(1) coefficient\n",
    "residuals_T_blk = ARMA_blk_model.resid.iloc[-1] # error term at time t\n",
    "\n",
    "\n",
    "next_sq_blk_return = avg_squared_blk_returns + AR_param_blk * (sigma2_T_blk- avg_squared_blk_returns) + MA_param_blk * residuals_T_blk\n",
    "\n",
    "print(f\"The next squared demeaned return of the BLK returns is: {next_sq_blk_return:.3f}\")\n",
    "print(f\"The next level demeaned return of the BLK returns is: {np.sqrt(next_sq_blk_return):.3f}\")"
   ]
  },
  {
   "cell_type": "markdown",
   "id": "3daecbcf-b344-403b-a0e2-78bee6bd8bf4",
   "metadata": {},
   "source": [
    "**(c)** Assuming a constant correlation, build the covariance matrix at time T + 1 as follows:\r\n",
    "\r\n",
    "Σ^T +1=</br> \r\n",
    "[σ^2T+1,BLK  ρ^σ^T+1,BLKσ^T+1, </br>HM]\r\n",
    "[ρ^σ^T+1,BLKσ^T+1,HM  σ^2T+1,HM]\r\n",
    "\r\n",
    "in which ˆρ stands for an estimate of the correlation coefficient between BlackRock and Hermes returns. Compute the minimum variance portfolio using your predicted time-varying covariance matrix Σ^T+1 and provide the proportion of wealth that should be invested in Hermes according to it.\r\n"
   ]
  },
  {
   "cell_type": "code",
   "execution_count": 34,
   "id": "b85dc881-01b5-4105-b528-98e79e0dc44c",
   "metadata": {},
   "outputs": [
    {
     "name": "stdout",
     "output_type": "stream",
     "text": [
      "Correlation coefficient between Hermes and Blackrock is: 0.213\n",
      "The next squared demeaned return of the Hermes returns is: 3.778\n",
      "The next squared demeaned return of the BLK returns is: 1.520\n"
     ]
    }
   ],
   "source": [
    "correlation_coef = data['Hermes returns'].corr(data['BLK returns']) # calculating correlation coefficient between the two returns \n",
    "\n",
    "print(f\"Correlation coefficient between Hermes and Blackrock is: {correlation_coef:.3f}\")\n",
    "print(f\"The next squared demeaned return of the Hermes returns is: {next_sq_hermes_return:.3f}\")\n",
    "print(f\"The next squared demeaned return of the BLK returns is: {next_sq_blk_return:.3f}\")"
   ]
  },
  {
   "cell_type": "code",
   "execution_count": 35,
   "id": "81c8f614-dab1-4272-a5f7-82db07355bd4",
   "metadata": {
    "scrolled": true
   },
   "outputs": [
    {
     "name": "stdout",
     "output_type": "stream",
     "text": [
      "Portfolio exhibiting the smallest variance among all possible portfolios: [0.76394152 0.23605848]\n",
      "Weight to invest in Blackrock: 0.764\n",
      "Weight to invest in Hermes: 0.236\n",
      "\n",
      "Covariance matrix:\n",
      "[[1.52013836 0.51028852]\n",
      " [0.51028852 3.7784034 ]]\n"
     ]
    }
   ],
   "source": [
    "\n",
    "# Calculating the covariance between Hermes and Blackrock  using the predicted variances and correlation coefficient \n",
    "cov_T_plus_1 = correlation_coef * np.sqrt(next_sq_hermes_return) * np.sqrt(next_sq_blk_return) # covariance(x,y) = corr(x,y) * sqrt(var(x) * var(y))\n",
    "\n",
    "# Predicted covariance matrix Σ^T+1\n",
    "cov_mat = np.array([[next_sq_blk_return, cov_T_plus_1],\n",
    "                              [cov_T_plus_1, next_sq_hermes_return]])\n",
    "\n",
    "# Calculating the inverse of the covariance matrix\n",
    "inv_cov = np.linalg.inv(cov_mat)\n",
    "\n",
    "# Creating  a vector of ones\n",
    "\n",
    "vect_ones = np.ones(2)\n",
    "\n",
    "# Optimal portfolio\n",
    "\n",
    "opt_port = np.matmul(inv_cov,vect_ones)/(np.matmul(vect_ones,np.matmul(inv_cov,vect_ones))) # optimal portfolio\n",
    "\n",
    "print('Portfolio exhibiting the smallest variance among all possible portfolios: ' + str(opt_port))\n",
    "print('Weight to invest in Blackrock: ' + f'{opt_port[0]:.3f}')\n",
    "print('Weight to invest in Hermes: ' + f'{opt_port[1]:.3f}')\n",
    "print()\n",
    "print('Covariance matrix:')\n",
    "print(cov_mat)"
   ]
  },
  {
   "cell_type": "markdown",
   "id": "f122cee4-1fa8-4ccf-abc8-c2f85a65cefd",
   "metadata": {},
   "source": [
    "For the portfolio that exhibits the smallest variance, the proportion of wealth that should be invested in Hermes at time t+1 is approximately 23%, compared to Blackrock that is approximately 77%."
   ]
  },
  {
   "cell_type": "markdown",
   "id": "17448c82-2e98-4289-abc9-76ea311ac321",
   "metadata": {},
   "source": [
    "Since returns have time-varying variance, AR models don't really make sense. That's why we did all the analysis on squared demeaned returns."
   ]
  }
 ],
 "metadata": {
  "kernelspec": {
   "display_name": "Python 3 (ipykernel)",
   "language": "python",
   "name": "python3"
  },
  "language_info": {
   "codemirror_mode": {
    "name": "ipython",
    "version": 3
   },
   "file_extension": ".py",
   "mimetype": "text/x-python",
   "name": "python",
   "nbconvert_exporter": "python",
   "pygments_lexer": "ipython3",
   "version": "3.11.5"
  }
 },
 "nbformat": 4,
 "nbformat_minor": 5
}
